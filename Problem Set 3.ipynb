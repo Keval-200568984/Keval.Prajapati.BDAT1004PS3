{
 "cells": [
  {
   "cell_type": "markdown",
   "id": "0544810b",
   "metadata": {},
   "source": [
    "**Problem Set 3**"
   ]
  },
  {
   "cell_type": "markdown",
   "id": "14be851d",
   "metadata": {},
   "source": [
    "Question 1\n",
    "Introduction:\n",
    "Special thanks to: https://github.com/justmarkham for sharing the dataset and materials.\n",
    "Occupations\n",
    "Step 1. Import the necessary libraries\n",
    "Step 2. Import the dataset from this address.\n",
    "Step 3. Assign it to a variable called users\n",
    "Step 4. Discover what is the mean age per occupation\n",
    "Step 5. Discover the Male ratio per occupation and sort it from the most to the least\n",
    "Step 6. For each occupation, calculate the minimum and maximum ages\n",
    "Step 7. For each combination of occupation and sex, calculate the mean age\n",
    "Step 8. For each occupation present the percentage of women and men"
   ]
  },
  {
   "cell_type": "code",
   "execution_count": 77,
   "id": "e74da64d",
   "metadata": {},
   "outputs": [],
   "source": [
    "# Importing the pandas library and aliasing it as pd\n",
    "import pandas as pd\n",
    "\n",
    "# Defining the URL for the dataset\n",
    "url = \"https://raw.githubusercontent.com/justmarkham/DAT8/master/data/u.user\"\n",
    "\n",
    "# Reading the dataset into a pandas DataFrame, using '|' as the separator and setting 'user_id' as the index\n",
    "users = pd.read_csv(url, sep='|', index_col='user_id')\n",
    "\n",
    "# Calculating the mean age for each occupation\n",
    "mean_age_per_occupation = users.groupby('occupation')['age'].mean()\n",
    "\n",
    "# Calculating the ratio of males per occupation, sorted in descending order\n",
    "male_ratio_per_occupation = users.groupby('occupation')['gender'].apply(lambda x: (x == 'M').sum() / x.count()).sort_values(ascending=False)\n",
    "\n",
    "# Calculating the minimum and maximum ages for each occupation\n",
    "min_max_ages_per_occupation = users.groupby('occupation')['age'].agg(['min', 'max'])\n",
    "\n",
    "# Calculating the mean age for each combination of occupation and gender\n",
    "mean_age_per_occupation_sex = users.groupby(['occupation', 'gender'])['age'].mean()\n",
    "\n",
    "# Calculating the percentage of each gender per occupation\n",
    "gender_percentage_per_occupation = users.groupby(['occupation', 'gender']).size() / users.groupby('occupation').size()"
   ]
  },
  {
   "cell_type": "markdown",
   "id": "bd9fb2c2",
   "metadata": {},
   "source": [
    "*Results*"
   ]
  },
  {
   "cell_type": "code",
   "execution_count": 78,
   "id": "34fe56da",
   "metadata": {},
   "outputs": [
    {
     "name": "stdout",
     "output_type": "stream",
     "text": [
      "Mean Age per Occupation:\n",
      "occupation\n",
      "administrator    38.746835\n",
      "artist           31.392857\n",
      "doctor           43.571429\n",
      "educator         42.010526\n",
      "engineer         36.388060\n",
      "entertainment    29.222222\n",
      "executive        38.718750\n",
      "healthcare       41.562500\n",
      "homemaker        32.571429\n",
      "lawyer           36.750000\n",
      "librarian        40.000000\n",
      "marketing        37.615385\n",
      "none             26.555556\n",
      "other            34.523810\n",
      "programmer       33.121212\n",
      "retired          63.071429\n",
      "salesman         35.666667\n",
      "scientist        35.548387\n",
      "student          22.081633\n",
      "technician       33.148148\n",
      "writer           36.311111\n",
      "Name: age, dtype: float64\n"
     ]
    }
   ],
   "source": [
    "# Printing the mean age for each occupation\n",
    "print(\"Mean Age per Occupation:\")\n",
    "print(mean_age_per_occupation)"
   ]
  },
  {
   "cell_type": "code",
   "execution_count": 79,
   "id": "5983137c",
   "metadata": {},
   "outputs": [
    {
     "name": "stdout",
     "output_type": "stream",
     "text": [
      "Male Ratio per Occupation (from most to least):\n",
      "occupation\n",
      "doctor           1.000000\n",
      "engineer         0.970149\n",
      "technician       0.962963\n",
      "retired          0.928571\n",
      "programmer       0.909091\n",
      "executive        0.906250\n",
      "scientist        0.903226\n",
      "entertainment    0.888889\n",
      "lawyer           0.833333\n",
      "salesman         0.750000\n",
      "educator         0.726316\n",
      "student          0.693878\n",
      "other            0.657143\n",
      "marketing        0.615385\n",
      "writer           0.577778\n",
      "none             0.555556\n",
      "administrator    0.544304\n",
      "artist           0.535714\n",
      "librarian        0.431373\n",
      "healthcare       0.312500\n",
      "homemaker        0.142857\n",
      "Name: gender, dtype: float64\n"
     ]
    }
   ],
   "source": [
    "# Printing the male ratio per occupation in descending order\n",
    "print(\"Male Ratio per Occupation (from most to least):\")\n",
    "print(male_ratio_per_occupation)"
   ]
  },
  {
   "cell_type": "code",
   "execution_count": 80,
   "id": "6e5ecd4a",
   "metadata": {},
   "outputs": [
    {
     "name": "stdout",
     "output_type": "stream",
     "text": [
      "Minimum and Maximum Ages per Occupation:\n",
      "               min  max\n",
      "occupation             \n",
      "administrator   21   70\n",
      "artist          19   48\n",
      "doctor          28   64\n",
      "educator        23   63\n",
      "engineer        22   70\n",
      "entertainment   15   50\n",
      "executive       22   69\n",
      "healthcare      22   62\n",
      "homemaker       20   50\n",
      "lawyer          21   53\n",
      "librarian       23   69\n",
      "marketing       24   55\n",
      "none            11   55\n",
      "other           13   64\n",
      "programmer      20   63\n",
      "retired         51   73\n",
      "salesman        18   66\n",
      "scientist       23   55\n",
      "student          7   42\n",
      "technician      21   55\n",
      "writer          18   60\n"
     ]
    }
   ],
   "source": [
    "# Printing the minimum and maximum ages for each occupation\n",
    "print(\"Minimum and Maximum Ages per Occupation:\")\n",
    "print(min_max_ages_per_occupation)"
   ]
  },
  {
   "cell_type": "code",
   "execution_count": 81,
   "id": "bcda77c1",
   "metadata": {},
   "outputs": [
    {
     "name": "stdout",
     "output_type": "stream",
     "text": [
      "Mean Age per Occupation and Sex:\n",
      "occupation     gender\n",
      "administrator  F         40.638889\n",
      "               M         37.162791\n",
      "artist         F         30.307692\n",
      "               M         32.333333\n",
      "doctor         M         43.571429\n",
      "educator       F         39.115385\n",
      "               M         43.101449\n",
      "engineer       F         29.500000\n",
      "               M         36.600000\n",
      "entertainment  F         31.000000\n",
      "               M         29.000000\n",
      "executive      F         44.000000\n",
      "               M         38.172414\n",
      "healthcare     F         39.818182\n",
      "               M         45.400000\n",
      "homemaker      F         34.166667\n",
      "               M         23.000000\n",
      "lawyer         F         39.500000\n",
      "               M         36.200000\n",
      "librarian      F         40.000000\n",
      "               M         40.000000\n",
      "marketing      F         37.200000\n",
      "               M         37.875000\n",
      "none           F         36.500000\n",
      "               M         18.600000\n",
      "other          F         35.472222\n",
      "               M         34.028986\n",
      "programmer     F         32.166667\n",
      "               M         33.216667\n",
      "retired        F         70.000000\n",
      "               M         62.538462\n",
      "salesman       F         27.000000\n",
      "               M         38.555556\n",
      "scientist      F         28.333333\n",
      "               M         36.321429\n",
      "student        F         20.750000\n",
      "               M         22.669118\n",
      "technician     F         38.000000\n",
      "               M         32.961538\n",
      "writer         F         37.631579\n",
      "               M         35.346154\n",
      "Name: age, dtype: float64\n"
     ]
    }
   ],
   "source": [
    "# Printing the mean age for each combination of occupation and gender\n",
    "print(\"Mean Age per Occupation and Sex:\")\n",
    "print(mean_age_per_occupation_sex)"
   ]
  },
  {
   "cell_type": "code",
   "execution_count": 82,
   "id": "506076cb",
   "metadata": {},
   "outputs": [
    {
     "name": "stdout",
     "output_type": "stream",
     "text": [
      "Percentage of Women and Men per Occupation:\n",
      "occupation     gender\n",
      "administrator  F         0.455696\n",
      "               M         0.544304\n",
      "artist         F         0.464286\n",
      "               M         0.535714\n",
      "doctor         M         1.000000\n",
      "educator       F         0.273684\n",
      "               M         0.726316\n",
      "engineer       F         0.029851\n",
      "               M         0.970149\n",
      "entertainment  F         0.111111\n",
      "               M         0.888889\n",
      "executive      F         0.093750\n",
      "               M         0.906250\n",
      "healthcare     F         0.687500\n",
      "               M         0.312500\n",
      "homemaker      F         0.857143\n",
      "               M         0.142857\n",
      "lawyer         F         0.166667\n",
      "               M         0.833333\n",
      "librarian      F         0.568627\n",
      "               M         0.431373\n",
      "marketing      F         0.384615\n",
      "               M         0.615385\n",
      "none           F         0.444444\n",
      "               M         0.555556\n",
      "other          F         0.342857\n",
      "               M         0.657143\n",
      "programmer     F         0.090909\n",
      "               M         0.909091\n",
      "retired        F         0.071429\n",
      "               M         0.928571\n",
      "salesman       F         0.250000\n",
      "               M         0.750000\n",
      "scientist      F         0.096774\n",
      "               M         0.903226\n",
      "student        F         0.306122\n",
      "               M         0.693878\n",
      "technician     F         0.037037\n",
      "               M         0.962963\n",
      "writer         F         0.422222\n",
      "               M         0.577778\n",
      "dtype: float64\n"
     ]
    }
   ],
   "source": [
    "# Printing the percentage of women and men for each occupation\n",
    "print(\"Percentage of Women and Men per Occupation:\")\n",
    "print(gender_percentage_per_occupation)"
   ]
  },
  {
   "cell_type": "markdown",
   "id": "449ffa6c",
   "metadata": {},
   "source": [
    "Question 2\n",
    "Euro Teams\n",
    "Step 1. Import the necessary libraries\n",
    "Step 2. Import the dataset from this address\n",
    "Step 3. Assign it to a variable called euro12\n",
    "Step 4. Select only the Goal column\n",
    "Step 5. How many team participated in the Euro2012?\n",
    "Step 6. What is the number of columns in the dataset?\n",
    "Step 7. View only the columns Team, Yellow Cards and Red Cards and assign them to a dataframe called discipline\n",
    "Step 8. Sort the teams by Red Cards, then to Yellow Cards\n",
    "Step 9. Calculate the mean Yellow Cards given per Team\n",
    "Step 10. Filter teams that scored more than 6 goalsStep 11. Select the teams that start with G\n",
    "Step 12. Select the first 7 columns\n",
    "Step 13. Select all columns except the last 3\n",
    "Step 14. Present only the Shooting Accuracy from England, Italy and Russia"
   ]
  },
  {
   "cell_type": "code",
   "execution_count": 83,
   "id": "c03de5ef",
   "metadata": {},
   "outputs": [],
   "source": [
    "# Defining the URL for the Euro 2012 dataset\n",
    "url = \"https://raw.githubusercontent.com/guipsamora/pandas_exercises/master/02_Filtering_%26_Sorting/Euro12/Euro_2012_stats_TEAM.csv\"\n",
    "\n",
    "# Reading the Euro 2012 dataset into a pandas DataFrame\n",
    "euro12 = pd.read_csv(url)\n",
    "\n",
    "# Extracting the 'Goals' column from the Euro 2012 dataset\n",
    "goal_column = euro12['Goals']\n",
    "\n",
    "# Calculating the number of unique teams participated in Euro 2012\n",
    "num_teams_participated = euro12['Team'].nunique()\n",
    "\n",
    "# Calculating the total number of columns in the Euro 2012 dataset\n",
    "num_columns = len(euro12.columns)\n",
    "\n",
    "# Extracting specific columns related to discipline ('Team', 'Yellow Cards', 'Red Cards')\n",
    "discipline = euro12[['Team', 'Yellow Cards', 'Red Cards']]\n",
    "\n",
    "# Sorting the discipline DataFrame based on 'Red Cards' and then 'Yellow Cards' in descending order\n",
    "discipline_sorted = discipline.sort_values(by=['Red Cards', 'Yellow Cards'], ascending=False)\n",
    "\n",
    "# Calculating the mean yellow cards per team\n",
    "mean_yellow_cards_per_team = euro12['Yellow Cards'].mean()\n",
    "\n",
    "# Selecting teams that scored more than 6 goals\n",
    "teams_more_than_6_goals = euro12[euro12['Goals'] > 6]\n",
    "\n",
    "# Selecting teams whose names start with the letter 'G'\n",
    "teams_starting_with_G = euro12[euro12['Team'].str.startswith('G')]\n",
    "\n",
    "# Selecting the first 7 columns of the Euro 2012 dataset\n",
    "first_7_columns = euro12.iloc[:, :7]\n",
    "\n",
    "# Selecting all columns except the last 3 columns of the Euro 2012 dataset\n",
    "all_columns_except_last_3 = euro12.iloc[:, :-3]\n",
    "\n",
    "# Selecting specific teams and columns related to shooting accuracy\n",
    "shooting_accuracy_selected_teams = euro12.loc[euro12['Team'].isin(['England', 'Italy', 'Russia']), ['Team', 'Shooting Accuracy']]\n"
   ]
  },
  {
   "cell_type": "markdown",
   "id": "fe76f3bb",
   "metadata": {},
   "source": [
    "*Results*"
   ]
  },
  {
   "cell_type": "code",
   "execution_count": 84,
   "id": "b8760f8d",
   "metadata": {},
   "outputs": [
    {
     "name": "stdout",
     "output_type": "stream",
     "text": [
      "Goal column:\n",
      "0      4\n",
      "1      4\n",
      "2      4\n",
      "3      5\n",
      "4      3\n",
      "5     10\n",
      "6      5\n",
      "7      6\n",
      "8      2\n",
      "9      2\n",
      "10     6\n",
      "11     1\n",
      "12     5\n",
      "13    12\n",
      "14     5\n",
      "15     2\n",
      "Name: Goals, dtype: int64\n"
     ]
    }
   ],
   "source": [
    "# Printing the 'Goals' column from the Euro 2012 dataset\n",
    "print(\"Goal column:\")\n",
    "print(goal_column)"
   ]
  },
  {
   "cell_type": "code",
   "execution_count": 85,
   "id": "565ff44c",
   "metadata": {},
   "outputs": [
    {
     "name": "stdout",
     "output_type": "stream",
     "text": [
      "Number of teams participated in Euro2012:\n",
      "16\n"
     ]
    }
   ],
   "source": [
    "# Printing the number of unique teams that participated in Euro 2012\n",
    "print(\"Number of teams participated in Euro2012:\")\n",
    "print(num_teams_participated)"
   ]
  },
  {
   "cell_type": "code",
   "execution_count": 86,
   "id": "0215e8a2",
   "metadata": {},
   "outputs": [
    {
     "name": "stdout",
     "output_type": "stream",
     "text": [
      "Number of columns in the dataset:\n",
      "35\n"
     ]
    }
   ],
   "source": [
    "# Printing the total number of columns in the Euro 2012 dataset\n",
    "print(\"Number of columns in the dataset:\")\n",
    "print(num_columns)"
   ]
  },
  {
   "cell_type": "code",
   "execution_count": 87,
   "id": "b287434b",
   "metadata": {},
   "outputs": [
    {
     "name": "stdout",
     "output_type": "stream",
     "text": [
      "Discipline dataframe (Team, Yellow Cards, Red Cards):\n",
      "                   Team  Yellow Cards  Red Cards\n",
      "0               Croatia             9          0\n",
      "1        Czech Republic             7          0\n",
      "2               Denmark             4          0\n",
      "3               England             5          0\n",
      "4                France             6          0\n",
      "5               Germany             4          0\n",
      "6                Greece             9          1\n",
      "7                 Italy            16          0\n",
      "8           Netherlands             5          0\n",
      "9                Poland             7          1\n",
      "10             Portugal            12          0\n",
      "11  Republic of Ireland             6          1\n",
      "12               Russia             6          0\n",
      "13                Spain            11          0\n",
      "14               Sweden             7          0\n",
      "15              Ukraine             5          0\n"
     ]
    }
   ],
   "source": [
    "# Printing the discipline DataFrame, including columns 'Team', 'Yellow Cards', and 'Red Cards'\n",
    "print(\"Discipline dataframe (Team, Yellow Cards, Red Cards):\")\n",
    "print(discipline)"
   ]
  },
  {
   "cell_type": "code",
   "execution_count": 88,
   "id": "bf197109",
   "metadata": {},
   "outputs": [
    {
     "name": "stdout",
     "output_type": "stream",
     "text": [
      "Discipline dataframe sorted by Red Cards, then Yellow Cards:\n",
      "                   Team  Yellow Cards  Red Cards\n",
      "6                Greece             9          1\n",
      "9                Poland             7          1\n",
      "11  Republic of Ireland             6          1\n",
      "7                 Italy            16          0\n",
      "10             Portugal            12          0\n",
      "13                Spain            11          0\n",
      "0               Croatia             9          0\n",
      "1        Czech Republic             7          0\n",
      "14               Sweden             7          0\n",
      "4                France             6          0\n",
      "12               Russia             6          0\n",
      "3               England             5          0\n",
      "8           Netherlands             5          0\n",
      "15              Ukraine             5          0\n",
      "2               Denmark             4          0\n",
      "5               Germany             4          0\n"
     ]
    }
   ],
   "source": [
    "# Printing the discipline DataFrame sorted by 'Red Cards' in descending order, then by 'Yellow Cards'\n",
    "print(\"Discipline dataframe sorted by Red Cards, then Yellow Cards:\")\n",
    "print(discipline_sorted)"
   ]
  },
  {
   "cell_type": "code",
   "execution_count": 89,
   "id": "0fd75e2c",
   "metadata": {},
   "outputs": [
    {
     "name": "stdout",
     "output_type": "stream",
     "text": [
      "Mean Yellow Cards given per Team:\n",
      "7.4375\n"
     ]
    }
   ],
   "source": [
    "# Printing the mean number of yellow cards given per team\n",
    "print(\"Mean Yellow Cards given per Team:\")\n",
    "print(mean_yellow_cards_per_team)"
   ]
  },
  {
   "cell_type": "code",
   "execution_count": 90,
   "id": "73838d88",
   "metadata": {},
   "outputs": [
    {
     "name": "stdout",
     "output_type": "stream",
     "text": [
      "Teams that scored more than 6 goals:\n",
      "       Team  Goals  Shots on target  Shots off target Shooting Accuracy  \\\n",
      "5   Germany     10               32                32             47.8%   \n",
      "13    Spain     12               42                33             55.9%   \n",
      "\n",
      "   % Goals-to-shots  Total shots (inc. Blocked)  Hit Woodwork  Penalty goals  \\\n",
      "5             15.6%                          80             2              1   \n",
      "13            16.0%                         100             0              1   \n",
      "\n",
      "    Penalties not scored  ...  Saves made  Saves-to-shots ratio  Fouls Won  \\\n",
      "5                      0  ...          10                 62.6%         63   \n",
      "13                     0  ...          15                 93.8%        102   \n",
      "\n",
      "   Fouls Conceded  Offsides  Yellow Cards  Red Cards  Subs on  Subs off  \\\n",
      "5              49        12             4          0       15        15   \n",
      "13             83        19            11          0       17        17   \n",
      "\n",
      "    Players Used  \n",
      "5             17  \n",
      "13            18  \n",
      "\n",
      "[2 rows x 35 columns]\n"
     ]
    }
   ],
   "source": [
    "# Printing the teams that scored more than 6 goals in the Euro 2012 dataset\n",
    "print(\"Teams that scored more than 6 goals:\")\n",
    "print(teams_more_than_6_goals)"
   ]
  },
  {
   "cell_type": "code",
   "execution_count": 91,
   "id": "8eb26516",
   "metadata": {},
   "outputs": [
    {
     "name": "stdout",
     "output_type": "stream",
     "text": [
      "Teams that start with G:\n",
      "      Team  Goals  Shots on target  Shots off target Shooting Accuracy  \\\n",
      "5  Germany     10               32                32             47.8%   \n",
      "6   Greece      5                8                18             30.7%   \n",
      "\n",
      "  % Goals-to-shots  Total shots (inc. Blocked)  Hit Woodwork  Penalty goals  \\\n",
      "5            15.6%                          80             2              1   \n",
      "6            19.2%                          32             1              1   \n",
      "\n",
      "   Penalties not scored  ...  Saves made  Saves-to-shots ratio  Fouls Won  \\\n",
      "5                     0  ...          10                 62.6%         63   \n",
      "6                     1  ...          13                 65.1%         67   \n",
      "\n",
      "  Fouls Conceded  Offsides  Yellow Cards  Red Cards  Subs on  Subs off  \\\n",
      "5             49        12             4          0       15        15   \n",
      "6             48        12             9          1       12        12   \n",
      "\n",
      "   Players Used  \n",
      "5            17  \n",
      "6            20  \n",
      "\n",
      "[2 rows x 35 columns]\n"
     ]
    }
   ],
   "source": [
    "# Printing the teams whose names start with the letter 'G' in the Euro 2012 dataset\n",
    "print(\"Teams that start with G:\")\n",
    "print(teams_starting_with_G)"
   ]
  },
  {
   "cell_type": "code",
   "execution_count": 92,
   "id": "d66cad70",
   "metadata": {},
   "outputs": [
    {
     "name": "stdout",
     "output_type": "stream",
     "text": [
      "First 7 columns:\n",
      "                   Team  Goals  Shots on target  Shots off target  \\\n",
      "0               Croatia      4               13                12   \n",
      "1        Czech Republic      4               13                18   \n",
      "2               Denmark      4               10                10   \n",
      "3               England      5               11                18   \n",
      "4                France      3               22                24   \n",
      "5               Germany     10               32                32   \n",
      "6                Greece      5                8                18   \n",
      "7                 Italy      6               34                45   \n",
      "8           Netherlands      2               12                36   \n",
      "9                Poland      2               15                23   \n",
      "10             Portugal      6               22                42   \n",
      "11  Republic of Ireland      1                7                12   \n",
      "12               Russia      5                9                31   \n",
      "13                Spain     12               42                33   \n",
      "14               Sweden      5               17                19   \n",
      "15              Ukraine      2                7                26   \n",
      "\n",
      "   Shooting Accuracy % Goals-to-shots  Total shots (inc. Blocked)  \n",
      "0              51.9%            16.0%                          32  \n",
      "1              41.9%            12.9%                          39  \n",
      "2              50.0%            20.0%                          27  \n",
      "3              50.0%            17.2%                          40  \n",
      "4              37.9%             6.5%                          65  \n",
      "5              47.8%            15.6%                          80  \n",
      "6              30.7%            19.2%                          32  \n",
      "7              43.0%             7.5%                         110  \n",
      "8              25.0%             4.1%                          60  \n",
      "9              39.4%             5.2%                          48  \n",
      "10             34.3%             9.3%                          82  \n",
      "11             36.8%             5.2%                          28  \n",
      "12             22.5%            12.5%                          59  \n",
      "13             55.9%            16.0%                         100  \n",
      "14             47.2%            13.8%                          39  \n",
      "15             21.2%             6.0%                          38  \n"
     ]
    }
   ],
   "source": [
    "# Printing the first 7 columns of the Euro 2012 dataset\n",
    "print(\"First 7 columns:\")\n",
    "print(first_7_columns)"
   ]
  },
  {
   "cell_type": "code",
   "execution_count": 93,
   "id": "57c18eee",
   "metadata": {},
   "outputs": [
    {
     "name": "stdout",
     "output_type": "stream",
     "text": [
      "All columns except the last 3:\n",
      "                   Team  Goals  Shots on target  Shots off target  \\\n",
      "0               Croatia      4               13                12   \n",
      "1        Czech Republic      4               13                18   \n",
      "2               Denmark      4               10                10   \n",
      "3               England      5               11                18   \n",
      "4                France      3               22                24   \n",
      "5               Germany     10               32                32   \n",
      "6                Greece      5                8                18   \n",
      "7                 Italy      6               34                45   \n",
      "8           Netherlands      2               12                36   \n",
      "9                Poland      2               15                23   \n",
      "10             Portugal      6               22                42   \n",
      "11  Republic of Ireland      1                7                12   \n",
      "12               Russia      5                9                31   \n",
      "13                Spain     12               42                33   \n",
      "14               Sweden      5               17                19   \n",
      "15              Ukraine      2                7                26   \n",
      "\n",
      "   Shooting Accuracy % Goals-to-shots  Total shots (inc. Blocked)  \\\n",
      "0              51.9%            16.0%                          32   \n",
      "1              41.9%            12.9%                          39   \n",
      "2              50.0%            20.0%                          27   \n",
      "3              50.0%            17.2%                          40   \n",
      "4              37.9%             6.5%                          65   \n",
      "5              47.8%            15.6%                          80   \n",
      "6              30.7%            19.2%                          32   \n",
      "7              43.0%             7.5%                         110   \n",
      "8              25.0%             4.1%                          60   \n",
      "9              39.4%             5.2%                          48   \n",
      "10             34.3%             9.3%                          82   \n",
      "11             36.8%             5.2%                          28   \n",
      "12             22.5%            12.5%                          59   \n",
      "13             55.9%            16.0%                         100   \n",
      "14             47.2%            13.8%                          39   \n",
      "15             21.2%             6.0%                          38   \n",
      "\n",
      "    Hit Woodwork  Penalty goals  Penalties not scored  ...  Clean Sheets  \\\n",
      "0              0              0                     0  ...             0   \n",
      "1              0              0                     0  ...             1   \n",
      "2              1              0                     0  ...             1   \n",
      "3              0              0                     0  ...             2   \n",
      "4              1              0                     0  ...             1   \n",
      "5              2              1                     0  ...             1   \n",
      "6              1              1                     1  ...             1   \n",
      "7              2              0                     0  ...             2   \n",
      "8              2              0                     0  ...             0   \n",
      "9              0              0                     0  ...             0   \n",
      "10             6              0                     0  ...             2   \n",
      "11             0              0                     0  ...             0   \n",
      "12             2              0                     0  ...             0   \n",
      "13             0              1                     0  ...             5   \n",
      "14             3              0                     0  ...             1   \n",
      "15             0              0                     0  ...             0   \n",
      "\n",
      "    Blocks  Goals conceded Saves made  Saves-to-shots ratio  Fouls Won  \\\n",
      "0       10               3         13                 81.3%         41   \n",
      "1       10               6          9                 60.1%         53   \n",
      "2       10               5         10                 66.7%         25   \n",
      "3       29               3         22                 88.1%         43   \n",
      "4        7               5          6                 54.6%         36   \n",
      "5       11               6         10                 62.6%         63   \n",
      "6       23               7         13                 65.1%         67   \n",
      "7       18               7         20                 74.1%        101   \n",
      "8        9               5         12                 70.6%         35   \n",
      "9        8               3          6                 66.7%         48   \n",
      "10      11               4         10                 71.5%         73   \n",
      "11      23               9         17                 65.4%         43   \n",
      "12       8               3         10                 77.0%         34   \n",
      "13       8               1         15                 93.8%        102   \n",
      "14      12               5          8                 61.6%         35   \n",
      "15       4               4         13                 76.5%         48   \n",
      "\n",
      "    Fouls Conceded  Offsides  Yellow Cards  Red Cards  \n",
      "0               62         2             9          0  \n",
      "1               73         8             7          0  \n",
      "2               38         8             4          0  \n",
      "3               45         6             5          0  \n",
      "4               51         5             6          0  \n",
      "5               49        12             4          0  \n",
      "6               48        12             9          1  \n",
      "7               89        16            16          0  \n",
      "8               30         3             5          0  \n",
      "9               56         3             7          1  \n",
      "10              90        10            12          0  \n",
      "11              51        11             6          1  \n",
      "12              43         4             6          0  \n",
      "13              83        19            11          0  \n",
      "14              51         7             7          0  \n",
      "15              31         4             5          0  \n",
      "\n",
      "[16 rows x 32 columns]\n"
     ]
    }
   ],
   "source": [
    "# Printing all columns except the last 3 columns of the Euro 2012 dataset\n",
    "print(\"All columns except the last 3:\")\n",
    "print(all_columns_except_last_3)"
   ]
  },
  {
   "cell_type": "code",
   "execution_count": 94,
   "id": "dea3ecad",
   "metadata": {},
   "outputs": [
    {
     "name": "stdout",
     "output_type": "stream",
     "text": [
      "Shooting Accuracy from England, Italy, and Russia:\n",
      "       Team Shooting Accuracy\n",
      "3   England             50.0%\n",
      "7     Italy             43.0%\n",
      "12   Russia             22.5%\n"
     ]
    }
   ],
   "source": [
    "# Printing the Shooting Accuracy for the selected teams (England, Italy, and Russia) from the Euro 2012 dataset\n",
    "print(\"Shooting Accuracy from England, Italy, and Russia:\")\n",
    "print(shooting_accuracy_selected_teams)"
   ]
  },
  {
   "cell_type": "code",
   "execution_count": 95,
   "id": "b0922e4b",
   "metadata": {},
   "outputs": [
    {
     "name": "stdout",
     "output_type": "stream",
     "text": [
      "Is it true that 'bigcolumn' is going only until index 99? False\n",
      "\n",
      "Housing DataFrame:\n",
      "    bedrs  bathrs  price_sqr_meter\n",
      "0       3       3            17977\n",
      "1       1       2            25061\n",
      "2       4       2            21898\n",
      "3       1       3            29812\n",
      "4       3       3            10568\n",
      "..    ...     ...              ...\n",
      "95      3       3            13192\n",
      "96      3       1            19853\n",
      "97      3       2            27299\n",
      "98      2       3            10732\n",
      "99      2       1            22314\n",
      "\n",
      "[100 rows x 3 columns]\n",
      "\n",
      "'bigcolumn' DataFrame:\n",
      "0          3\n",
      "1          1\n",
      "2          4\n",
      "3          1\n",
      "4          3\n",
      "       ...  \n",
      "295    13192\n",
      "296    19853\n",
      "297    27299\n",
      "298    10732\n",
      "299    22314\n",
      "Length: 300, dtype: int32\n"
     ]
    }
   ],
   "source": [
    "import numpy as np\n",
    "\n",
    "# Creating a Series 'series1' with 100 random integers between 1 and 5\n",
    "series1 = pd.Series(np.random.randint(1, 5, size=100), name='bedrs')\n",
    "\n",
    "# Creating a Series 'series2' with 100 random integers between 1 and 4\n",
    "series2 = pd.Series(np.random.randint(1, 4, size=100), name='bathrs')\n",
    "\n",
    "# Creating a Series 'series3' with 100 random integers between 10000 and 30001\n",
    "series3 = pd.Series(np.random.randint(10000, 30001, size=100), name='price_sqr_meter')\n",
    "\n",
    "# Concatenating the three Series to create a DataFrame 'housing_df'\n",
    "housing_df = pd.concat([series1, series2, series3], axis=1)\n",
    "\n",
    "# Renaming the columns of the 'housing_df' DataFrame\n",
    "housing_df.columns = ['bedrs', 'bathrs', 'price_sqr_meter']\n",
    "\n",
    "# Concatenating the three Series along rows to create a single Series 'bigcolumn'\n",
    "bigcolumn = pd.concat([series1, series2, series3], axis=0, ignore_index=True)\n",
    "\n",
    "# Checking if the maximum index of 'bigcolumn' is 99\n",
    "print(\"Is it true that 'bigcolumn' is going only until index 99?\", bigcolumn.index.max() == 99)\n",
    "\n",
    "# Resetting the index of 'bigcolumn' and dropping the old index\n",
    "bigcolumn = bigcolumn.reset_index(drop=True)\n",
    "\n",
    "# Printing the Housing DataFrame 'housing_df'\n",
    "print(\"\\nHousing DataFrame:\")\n",
    "print(housing_df)\n",
    "\n",
    "# Printing the 'bigcolumn' DataFrame\n",
    "print(\"\\n'bigcolumn' DataFrame:\")\n",
    "print(bigcolumn)"
   ]
  },
  {
   "cell_type": "markdown",
   "id": "77fd5b59",
   "metadata": {},
   "source": [
    "Question 4\n",
    "Wind Statistics\n",
    "The data have been modified to contain some missing values, identified by NaN.\n",
    "Using pandas should make this exercise easier, in particular for the bonus question.\n",
    "You should be able to perform all of these operations without using a for loop or other looping construct.\n",
    "The data in 'wind.data' has the following format:\n",
    "Yr Mo Dy RPT VAL ROS KIL SHA BIR DUB CLA MUL CLO BEL MAL\n",
    "61 1 1 15.04 14.96 13.17 9.29 NaN 9.87 13.67 10.25 10.83 12.58 18.50 15.04\n",
    "61 1 2 14.71 NaN 10.83 6.50 12.62 7.67 11.50 10.04 9.79 9.67 17.54 13.83\n",
    "61 1 3 18.50 16.88 12.33 10.13 11.17 6.17 11.25 NaN 8.50 7.67 12.75 12.71\n",
    "The first three columns are year, month, and day. The remaining 12 columns are average windspeeds in knots at 12 locations in Ireland on that day.\n",
    "Step 1. Import the necessary libraries\n",
    "Step 2. Import the dataset from the attached file wind.txt\n",
    "Step 3. Assign it to a variable called data and replace the first 3 columns by a proper datetime index.\n",
    "Step 4. Year 2061? Do we really have data from this year? Create a function to fix it and apply it.\n",
    "Step 5. Set the right dates as the index. Pay attention at the data type, it should be datetime64[ns].\n",
    "Step 6. Compute how many values are missing for each location over the entire record.They should be ignored in all calculations below.\n",
    "Step 7. Compute how many non-missing values there are in total.\n",
    "Step 8. Calculate the mean windspeeds of the windspeeds over all the locations and all the times.\n",
    "A single number for the entire dataset.\n",
    "Step 9. Create a DataFrame called loc_stats and calculate the min, max and mean windspeeds and standard deviations of the windspeeds at each location over all the days\n",
    "A different set of numbers for each location.\n",
    "Step 10. Create a DataFrame called day_stats and calculate the min, max and mean windspeed and standard deviations of the windspeeds across all the locations at each day.\n",
    "A different set of numbers for each day.\n",
    "Step 11. Find the average windspeed in January for each location.\n",
    "Treat January 1961 and January 1962 both as January.\n",
    "Step 12. Downsample the record to a yearly frequency for each location.\n",
    "Step 13. Downsample the record to a monthly frequency for each location.\n",
    "Step 14. Downsample the record to a weekly frequency for each location.\n",
    "Step 15. Calculate the min, max and mean windspeeds and standard deviations of the windspeeds across all locations for each week (assume that the first week starts on January 2 1961) for the first 52 weeks."
   ]
  },
  {
   "cell_type": "code",
   "execution_count": 96,
   "id": "7cc54316",
   "metadata": {},
   "outputs": [],
   "source": [
    "# Specifying the file path for the wind data\n",
    "file_path = \"C:/Users/keval/Desktop/Georgain/Data Programming/Assignments/wind.txt\"\n",
    "\n",
    "# Reading the wind data from the specified file, treating whitespace as the delimiter, and handling NaN values\n",
    "data = pd.read_csv(file_path, delim_whitespace=True, na_values='NaN')\n",
    "\n",
    "# Creating a 'date' column by combining 'Yr', 'Mo', and 'Dy', converting it to datetime, and setting it as the index\n",
    "data['date'] = pd.to_datetime(data[['Yr', 'Mo', 'Dy']].astype(str).agg('-'.join, axis=1))\n",
    "data = data.set_index('date').drop(['Yr', 'Mo', 'Dy'], axis=1)\n",
    "\n",
    "# Fixing the year format in the index\n",
    "data.index = data.index.map(lambda x: x.replace(year=fix_year(x.year)))\n",
    "\n",
    "# Converting the entire DataFrame to float type\n",
    "data = data.astype(float)\n",
    "\n",
    "# Calculating the number of missing values per location\n",
    "missing_values_per_location = data.isnull().sum()\n",
    "\n",
    "# Calculating the total number of non-missing values in the dataset\n",
    "total_non_missing_values = data.notnull().sum().sum()\n",
    "\n",
    "# Calculating the mean windspeed across all locations and dates\n",
    "mean_windspeed = data.stack().mean()\n",
    "\n",
    "# Generating location-wise statistics including min, mean, max, and standard deviation\n",
    "loc_stats = data.describe(percentiles=[]).transpose()[['min', 'mean', 'max', 'std']]\n",
    "\n",
    "# Creating a DataFrame 'day_stats' with min, max, mean, and std calculated for each day\n",
    "day_stats = pd.DataFrame()\n",
    "day_stats['min'] = data.min(axis=1)\n",
    "day_stats['max'] = data.max(axis=1)\n",
    "day_stats['mean'] = data.mean(axis=1)\n",
    "day_stats['std'] = data.std(axis=1)\n",
    "\n",
    "# Extracting average windspeed for January grouped by year\n",
    "average_windspeed_january = data[data.index.month == 1].groupby(data[data.index.month == 1].index.year).mean()\n",
    "\n",
    "# Resampling the data to get yearly, monthly, and weekly averages\n",
    "yearly_data = data.resample('Y').mean()\n",
    "monthly_data = data.resample('M').mean()\n",
    "weekly_data = data.resample('W').mean()\n",
    "\n",
    "# Resampling the data for the first 52 weeks and calculating min, mean, max, and std\n",
    "weekly_stats_first_52_weeks = data.resample('W').agg(['min', 'mean', 'max', 'std']).iloc[:52]\n"
   ]
  },
  {
   "cell_type": "markdown",
   "id": "1b9519b2",
   "metadata": {},
   "source": [
    "*Results*"
   ]
  },
  {
   "cell_type": "code",
   "execution_count": 97,
   "id": "2df76795",
   "metadata": {},
   "outputs": [
    {
     "name": "stdout",
     "output_type": "stream",
     "text": [
      "Missing Values per Location:\n",
      "RPT    6\n",
      "VAL    3\n",
      "ROS    2\n",
      "KIL    5\n",
      "SHA    2\n",
      "BIR    0\n",
      "DUB    3\n",
      "CLA    2\n",
      "MUL    3\n",
      "CLO    1\n",
      "BEL    0\n",
      "MAL    4\n",
      "dtype: int64\n"
     ]
    }
   ],
   "source": [
    "# Printing the number of missing values per location in the wind data\n",
    "print(\"Missing Values per Location:\")\n",
    "print(missing_values_per_location)"
   ]
  },
  {
   "cell_type": "code",
   "execution_count": 98,
   "id": "65d7272c",
   "metadata": {},
   "outputs": [
    {
     "name": "stdout",
     "output_type": "stream",
     "text": [
      "Total Non-Missing Values:\n",
      "78857\n"
     ]
    }
   ],
   "source": [
    "# Printing the total number of non-missing values in the wind data\n",
    "print(\"Total Non-Missing Values:\")\n",
    "print(total_non_missing_values)"
   ]
  },
  {
   "cell_type": "code",
   "execution_count": 99,
   "id": "6931a7da",
   "metadata": {},
   "outputs": [
    {
     "name": "stdout",
     "output_type": "stream",
     "text": [
      "Mean Windspeed over all Locations and Times:\n",
      "10.22788376428219\n"
     ]
    }
   ],
   "source": [
    "# Printing the mean windspeed calculated over all locations and times in the wind data\n",
    "print(\"Mean Windspeed over all Locations and Times:\")\n",
    "print(mean_windspeed)"
   ]
  },
  {
   "cell_type": "code",
   "execution_count": 100,
   "id": "96ffb423",
   "metadata": {},
   "outputs": [
    {
     "name": "stdout",
     "output_type": "stream",
     "text": [
      "Location Statistics (min, mean, max, std):\n",
      "      min       mean    max       std\n",
      "RPT  0.67  12.362987  35.80  5.618413\n",
      "VAL  0.21  10.644314  33.37  5.267356\n",
      "ROS  1.50  11.660526  33.84  5.008450\n",
      "KIL  0.00   6.306468  28.46  3.605811\n",
      "SHA  0.13  10.455834  37.54  4.936125\n",
      "BIR  0.00   7.092254  26.16  3.968683\n",
      "DUB  0.00   9.797343  30.37  4.977555\n",
      "CLA  0.00   8.495053  31.08  4.499449\n",
      "MUL  0.00   8.493590  25.88  4.166872\n",
      "CLO  0.04   8.707332  28.21  4.503954\n",
      "BEL  0.13  13.121007  42.38  5.835037\n",
      "MAL  0.67  15.599079  42.54  6.699794\n"
     ]
    }
   ],
   "source": [
    "# Printing location statistics including min, mean, max, and standard deviation\n",
    "print(\"Location Statistics (min, mean, max, std):\")\n",
    "print(loc_stats)"
   ]
  },
  {
   "cell_type": "code",
   "execution_count": 101,
   "id": "99dceed3",
   "metadata": {},
   "outputs": [
    {
     "name": "stdout",
     "output_type": "stream",
     "text": [
      "Day Statistics (min, mean, max, std):\n",
      "             min    max       mean       std\n",
      "date                                        \n",
      "1961-01-01  9.29  18.50  13.018182  2.808875\n",
      "1961-01-02  6.50  17.54  11.336364  3.188994\n",
      "1961-01-03  6.17  18.50  11.641818  3.681912\n",
      "1961-01-04  1.79  11.75   6.619167  3.198126\n",
      "1961-01-05  6.17  13.33  10.630000  2.445356\n",
      "...          ...    ...        ...       ...\n",
      "1978-12-27  8.08  40.08  16.708333  7.868076\n",
      "1978-12-28  5.00  41.46  15.150000  9.687857\n",
      "1978-12-29  8.71  29.58  14.890000  5.756836\n",
      "1978-12-30  9.13  28.79  15.367500  5.540437\n",
      "1978-12-31  9.59  27.29  15.402500  5.702483\n",
      "\n",
      "[6574 rows x 4 columns]\n"
     ]
    }
   ],
   "source": [
    "# Printing day statistics including min, mean, max, and standard deviation\n",
    "print(\"Day Statistics (min, mean, max, std):\")\n",
    "print(day_stats)"
   ]
  },
  {
   "cell_type": "code",
   "execution_count": 102,
   "id": "88c7e7e6",
   "metadata": {},
   "outputs": [
    {
     "name": "stdout",
     "output_type": "stream",
     "text": [
      "Average Windspeed in January for Each Location:\n",
      "            RPT        VAL        ROS        KIL        SHA        BIR  \\\n",
      "date                                                                     \n",
      "1961  14.841333  11.988333  13.431613   7.736774  11.072759   8.588065   \n",
      "1962  14.783871  13.160323  12.591935   7.538065  11.779677   8.720000   \n",
      "1963  14.868387  11.112903  15.121613   6.635806  11.080645   7.835484   \n",
      "1964  12.661290  11.818387  11.741290   6.953548  11.400645   6.865806   \n",
      "1965  15.741613  15.546774  15.274194   8.258387  13.588065   9.251290   \n",
      "1966  15.834839  13.283226  15.136452   8.659355  12.968065   9.163548   \n",
      "1967  13.736129  11.470968  11.537419   6.928065  10.833548   6.730323   \n",
      "1968  14.733226  12.829032  12.294194   7.849032  12.262581   7.133226   \n",
      "1969  12.824839  12.113871  11.403871   6.708710  10.557097   5.926452   \n",
      "1970  13.152581  11.731935  13.083871   5.810968   9.507742   8.040323   \n",
      "1971  15.098065  13.398387  13.080000   6.364194  11.342258   7.759677   \n",
      "1972  14.383871  11.848387  13.732258   5.925161  10.823226   7.291290   \n",
      "1973  13.177742  12.202903  10.860968   5.454516   9.327419   7.419677   \n",
      "1974  20.990968  17.623548  17.514839  10.549355  15.858387  11.298387   \n",
      "1975  17.100323  15.812903  13.942581   8.081935  13.934194   8.437742   \n",
      "1976  15.626129  14.240323  13.867097   7.789355  13.081935   9.003548   \n",
      "1977  13.404516  10.377742  12.764839   5.884516   9.159677   8.005161   \n",
      "1978  14.291935  11.872258  12.014194   6.463226  11.402903   7.517097   \n",
      "\n",
      "            DUB        CLA        MUL        CLO        BEL        MAL  \n",
      "date                                                                    \n",
      "1961  11.184839   9.245333   9.085806  10.107419  13.880968  14.703226  \n",
      "1962  14.211935   9.600000   9.670000  11.498710  16.369355  15.661613  \n",
      "1963  12.797419   9.844839   7.841613   9.390000  11.428710  18.822258  \n",
      "1964   9.592903   9.687419   6.947742   9.676774  15.067419  14.145484  \n",
      "1965  13.850968  11.260000   9.899355  11.706129  16.196129  17.888710  \n",
      "1966  12.150000  10.475806   8.750645  10.739677  14.074516  15.554194  \n",
      "1967   9.787419   7.474839   7.627097  10.169032  13.457742  17.124516  \n",
      "1968  12.395806   9.225806   9.415484   9.255161  14.213871  19.095484  \n",
      "1969   9.882903   8.375161   8.378065   9.515484  13.410000  16.957742  \n",
      "1970   9.843226   8.834194   8.407097   7.626452  12.403871  17.192903  \n",
      "1971  10.297419   8.350000   8.979355   8.666774  14.392581  16.360000  \n",
      "1972  11.287097   6.733548   9.109355   8.728387  12.170645  17.598710  \n",
      "1973  10.738710   7.880000   8.651290   7.596774  12.076452  14.684516  \n",
      "1974  14.112258  12.786452  14.691935  15.092903  19.929677  24.573226  \n",
      "1975  13.179677  12.601935  13.000645  11.064839  19.266774  21.713226  \n",
      "1976  15.121290  11.414839  13.493226  11.553871  16.337097  22.896129  \n",
      "1977  10.107419   7.211613   8.280000   9.328387  12.131935  18.830000  \n",
      "1978  12.207097  10.206452   9.549032   9.247419  15.101613  20.715806  \n"
     ]
    }
   ],
   "source": [
    "# Printing the average windspeed in January for each location, grouped by year\n",
    "print(\"Average Windspeed in January for Each Location:\")\n",
    "print(average_windspeed_january)"
   ]
  },
  {
   "cell_type": "code",
   "execution_count": 103,
   "id": "9832c452",
   "metadata": {},
   "outputs": [
    {
     "name": "stdout",
     "output_type": "stream",
     "text": [
      "Yearly Downsampled Data:\n",
      "                  RPT        VAL        ROS       KIL        SHA       BIR  \\\n",
      "date                                                                         \n",
      "1961-12-31  12.299583  10.351796  11.362369  6.958227  10.881763  7.729726   \n",
      "1962-12-31  12.246923  10.110438  11.732712  6.960440  10.657918  7.393068   \n",
      "1963-12-31  12.813452  10.836986  12.541151  7.330055  11.724110  8.434712   \n",
      "1964-12-31  12.363661  10.920164  12.104372  6.787787  11.454481  7.570874   \n",
      "1965-12-31  12.451370  11.075534  11.848767  6.858466  11.024795  7.478110   \n",
      "1966-12-31  13.461973  11.557205  12.020630  7.345726  11.805041  7.793671   \n",
      "1967-12-31  12.737151  10.990986  11.739397  7.143425  11.630740  7.368164   \n",
      "1968-12-31  11.835628  10.468197  11.409754  6.477678  10.760765  6.067322   \n",
      "1969-12-31  11.166356   9.723699  10.902000  5.767973   9.873918  6.189973   \n",
      "1970-12-31  12.600329  10.726932  11.730247  6.217178  10.567370  7.609452   \n",
      "1971-12-31  11.273123   9.095178  11.088329  5.241507   9.440329  6.097151   \n",
      "1972-12-31  12.463962  10.561311  12.058333  5.929699   9.430410  6.358825   \n",
      "1973-12-31  11.828466  10.680493  10.680493  5.547863   9.640877  6.548740   \n",
      "1974-12-31  13.643096  11.811781  12.336356  6.427041  11.110986  6.809781   \n",
      "1975-12-31  12.008575  10.293836  11.564712  5.269096   9.190082  5.668521   \n",
      "1976-12-31  11.737842  10.203115  10.761230  5.109426   8.846339  6.311038   \n",
      "1977-12-31  13.099616  11.144493  12.627836  6.073945  10.003836  8.586438   \n",
      "1978-12-31  12.504356  11.044274  11.380000  6.082356  10.167233  7.650658   \n",
      "\n",
      "                  DUB        CLA       MUL        CLO        BEL        MAL  \n",
      "date                                                                         \n",
      "1961-12-31   9.733923   8.858788  8.647652   9.835577  13.502795  13.680773  \n",
      "1962-12-31  11.020712   8.793753  8.316822   9.676247  12.930685  14.323956  \n",
      "1963-12-31  11.075699  10.336548  8.903589  10.224438  13.638877  14.999014  \n",
      "1964-12-31  10.259153   9.467350  7.789016  10.207951  13.740546  14.910301  \n",
      "1965-12-31  10.618712   8.879918  7.907425   9.918082  12.964247  15.591644  \n",
      "1966-12-31  10.579808   8.835096  8.514438   9.768959  14.265836  16.307260  \n",
      "1967-12-31  10.652027   9.325616  8.645014   9.547425  14.774548  17.135945  \n",
      "1968-12-31   8.859180   8.255519  7.224945   7.832978  12.808634  15.017486  \n",
      "1969-12-31   8.564493   7.711397  7.924521   7.754384  12.621233  15.762904  \n",
      "1970-12-31   9.609890   8.334630  9.297616   8.289808  13.183644  16.456027  \n",
      "1971-12-31   8.385890   6.757315  7.915370   7.229753  12.208932  15.025233  \n",
      "1972-12-31   9.704508   7.680792  8.357295   7.515273  12.727377  15.028716  \n",
      "1973-12-31   8.482110   7.614274  8.245534   7.812411  12.169699  15.441096  \n",
      "1974-12-31  10.084603   9.896986  9.331753   8.736356  13.252959  16.947671  \n",
      "1975-12-31   8.562603   7.843836  8.797945   7.382822  12.631671  15.307863  \n",
      "1976-12-31   9.149126   7.146202  8.883716   7.883087  12.332377  15.471448  \n",
      "1977-12-31  11.523205   8.378384  9.098192   8.821616  13.459068  16.590849  \n",
      "1978-12-31   9.489342   8.800466  9.089753   8.301699  12.967397  16.771370  \n"
     ]
    }
   ],
   "source": [
    "# Printing the yearly downsampled data (mean) for each location\n",
    "print(\"Yearly Downsampled Data:\")\n",
    "print(yearly_data)"
   ]
  },
  {
   "cell_type": "code",
   "execution_count": 104,
   "id": "8da3341b",
   "metadata": {},
   "outputs": [
    {
     "name": "stdout",
     "output_type": "stream",
     "text": [
      "Monthly Downsampled Data:\n",
      "                  RPT        VAL        ROS       KIL        SHA        BIR  \\\n",
      "date                                                                          \n",
      "1961-01-31  14.841333  11.988333  13.431613  7.736774  11.072759   8.588065   \n",
      "1961-02-28  16.269286  14.975357  14.441481  9.230741  13.852143  10.937500   \n",
      "1961-03-31  10.890000  11.296452  10.752903  7.284000  10.509355   8.866774   \n",
      "1961-04-30  10.722667   9.427667   9.998000  5.830667   8.435000   6.495000   \n",
      "1961-05-31   9.860968   8.850000  10.818065  5.905333   9.490323   6.574839   \n",
      "...               ...        ...        ...       ...        ...        ...   \n",
      "1978-08-31   9.645161   8.259355   9.032258  4.502903   7.368065   5.935161   \n",
      "1978-09-30  10.913667  10.895000  10.635000  5.725000  10.372000   9.278333   \n",
      "1978-10-31   9.897742   8.670968   9.295806  4.721290   8.525161   6.774194   \n",
      "1978-11-30  16.151667  14.802667  13.508000  7.317333  11.475000   8.743000   \n",
      "1978-12-31  16.175484  13.748065  15.635161  7.094839  11.398710   9.241613   \n",
      "\n",
      "                  DUB        CLA        MUL        CLO        BEL        MAL  \n",
      "date                                                                          \n",
      "1961-01-31  11.184839   9.245333   9.085806  10.107419  13.880968  14.703226  \n",
      "1961-02-28  11.890714  11.846071  11.821429  12.714286  18.583214  15.411786  \n",
      "1961-03-31   9.644194   9.829677  10.294138  11.251935  16.410968  15.720000  \n",
      "1961-04-30   6.925333   7.094667   7.342333   7.237000  11.147333  10.278333  \n",
      "1961-05-31   7.604000   8.177097   8.039355   8.499355  11.900323  12.011613  \n",
      "...               ...        ...        ...        ...        ...        ...  \n",
      "1978-08-31   5.650323   5.417742   7.241290   5.536774  10.466774  12.054194  \n",
      "1978-09-30  10.790333   9.583000  10.069333   8.939000  15.680333  19.391333  \n",
      "1978-10-31   8.115484   7.337742   8.297742   8.243871  13.776774  17.150000  \n",
      "1978-11-30  11.492333   9.657333  10.701333  10.676000  17.404667  20.723000  \n",
      "1978-12-31  12.077419  10.194839  10.616774  11.028710  13.859677  21.371613  \n",
      "\n",
      "[216 rows x 12 columns]\n"
     ]
    }
   ],
   "source": [
    "# Printing the monthly downsampled data (mean) for each location\n",
    "print(\"Monthly Downsampled Data:\")\n",
    "print(monthly_data)"
   ]
  },
  {
   "cell_type": "code",
   "execution_count": 105,
   "id": "ecee44f8",
   "metadata": {},
   "outputs": [
    {
     "name": "stdout",
     "output_type": "stream",
     "text": [
      "Weekly Downsampled Data:\n",
      "                  RPT        VAL        ROS        KIL        SHA        BIR  \\\n",
      "date                                                                           \n",
      "1961-01-01  15.040000  14.960000  13.170000   9.290000        NaN   9.870000   \n",
      "1961-01-08  13.541429  11.486667  10.487143   6.417143   9.474286   6.435714   \n",
      "1961-01-15  12.468571   8.967143  11.958571   4.630000   7.351429   5.072857   \n",
      "1961-01-22  13.204286   9.862857  12.982857   6.328571   8.966667   7.417143   \n",
      "1961-01-29  19.880000  16.141429  18.225714  12.720000  17.432857  14.828571   \n",
      "...               ...        ...        ...        ...        ...        ...   \n",
      "1978-12-03  14.934286  11.232857  13.941429   5.565714  10.215714   8.618571   \n",
      "1978-12-10  20.740000  19.190000  17.034286   9.777143  15.287143  12.774286   \n",
      "1978-12-17  16.758571  14.692857  14.987143   6.917143  11.397143   7.272857   \n",
      "1978-12-24  11.155714   8.008571  13.172857   4.004286   7.825714   6.290000   \n",
      "1978-12-31  14.951429  11.801429  16.035714   6.507143   9.660000   8.620000   \n",
      "\n",
      "                  DUB        CLA        MUL        CLO        BEL        MAL  \n",
      "date                                                                          \n",
      "1961-01-01  13.670000  10.250000  10.830000  12.580000  18.500000  15.040000  \n",
      "1961-01-08  11.061429   6.616667   8.434286   8.497143  12.481429  13.238571  \n",
      "1961-01-15   7.535714   6.820000   5.712857   7.571429  11.125714  11.024286  \n",
      "1961-01-22   9.257143   7.875714   7.145714   8.124286   9.821429  11.434286  \n",
      "1961-01-29  15.528571  15.160000  14.480000  15.640000  20.930000  22.530000  \n",
      "...               ...        ...        ...        ...        ...        ...  \n",
      "1978-12-03   9.642857   7.685714   9.011429   9.547143  11.835714  18.728571  \n",
      "1978-12-10  14.437143  12.488571  13.870000  14.082857  18.517143  23.061429  \n",
      "1978-12-17  10.208571   7.967143   9.168571   8.565714  11.102857  15.562857  \n",
      "1978-12-24   7.798571   8.667143   7.151429   8.072857  11.845714  18.977143  \n",
      "1978-12-31  13.708571  10.477143  10.868571  11.471429  12.947143  26.844286  \n",
      "\n",
      "[940 rows x 12 columns]\n"
     ]
    }
   ],
   "source": [
    "# Printing the weekly downsampled data (mean) for each location\n",
    "print(\"Weekly Downsampled Data:\")\n",
    "print(weekly_data)"
   ]
  },
  {
   "cell_type": "code",
   "execution_count": 106,
   "id": "f51e1a60",
   "metadata": {},
   "outputs": [
    {
     "name": "stdout",
     "output_type": "stream",
     "text": [
      "Weekly Statistics for the First 52 Weeks (min, mean, max, std):\n",
      "              RPT                                VAL                    \\\n",
      "              min       mean    max       std    min       mean    max   \n",
      "date                                                                     \n",
      "1961-01-01  15.04  15.040000  15.04       NaN  14.96  14.960000  14.96   \n",
      "1961-01-08  10.58  13.541429  18.50  2.631321   6.63  11.486667  16.88   \n",
      "1961-01-15   9.04  12.468571  19.75  3.555392   3.54   8.967143  12.08   \n",
      "1961-01-22   4.92  13.204286  19.83  5.337402   3.42   9.862857  14.37   \n",
      "1961-01-29  13.62  19.880000  25.04  4.619061   9.96  16.141429  23.91   \n",
      "1961-02-05  10.58  16.827143  24.21  5.251408   9.46  15.460000  24.21   \n",
      "1961-02-12  16.00  19.684286  24.54  3.587677  11.54  16.417143  21.42   \n",
      "1961-02-19   6.04  15.130000  22.50  5.064609  11.63  15.091429  20.17   \n",
      "1961-02-26   7.79  15.221429  25.80  7.020716   7.08  13.625714  21.50   \n",
      "1961-03-05  10.96  12.101429  13.33  0.997721   8.83  12.951429  17.00   \n",
      "1961-03-12   4.88   9.376667  14.79  3.732263   8.08  11.578571  16.96   \n",
      "1961-03-19   4.92  11.911429  16.88  3.860036   9.46  13.501429  15.54   \n",
      "1961-03-26   6.29   9.567143  15.00  3.613298   2.58   8.387143  11.63   \n",
      "1961-04-02   5.88  10.757143  18.25  5.046922   3.50   8.852857  16.29   \n",
      "1961-04-09   4.50  11.964286  18.12  4.604392   7.04  10.654286  14.62   \n",
      "1961-04-16   4.71   8.965714  15.50  3.937727   4.83   8.000000  12.25   \n",
      "1961-04-23   4.00  12.621429  21.09  5.676655   3.71  10.438571  15.41   \n",
      "1961-04-30   4.08  10.117143  16.29  4.349662   6.50   9.798571  14.46   \n",
      "1961-05-07   9.87  15.367143  23.00  5.025507  10.29  13.970000  19.79   \n",
      "1961-05-14   3.54   7.772857  12.79  3.371022   3.96   8.712857  15.12   \n",
      "1961-05-21   4.88   8.225714  15.04  3.631730   3.58   5.631667  10.17   \n",
      "1961-05-28   4.96   8.155714  11.79  2.739433   3.67   7.388571  12.50   \n",
      "1961-06-04   7.00  10.321429  15.92  3.099701   4.75   7.407143   9.79   \n",
      "1961-06-11   8.29  10.917143  14.42  2.248597   6.83   8.992857  11.54   \n",
      "1961-06-18   6.13  10.571429  14.33  3.009482   4.12   9.565714  14.54   \n",
      "1961-06-25   4.00   7.345714   9.00  1.982035   3.25   6.108571   9.50   \n",
      "1961-07-02   7.21  10.236667  13.13  2.557856   6.34   9.482857  14.37   \n",
      "1961-07-09   7.29  11.715714  17.50  3.664855   3.75   7.220000  10.75   \n",
      "1961-07-16   8.63  16.680000  22.50  5.168710   7.87  13.518571  19.29   \n",
      "1961-07-23   3.04   4.202857   5.88  1.047978   2.92   4.255714   6.79   \n",
      "1961-07-30   6.13  10.561429  16.08  4.157641   4.63   8.445714  13.79   \n",
      "1961-08-06   7.67  10.870000  16.08  2.950887   5.09   8.792857  15.79   \n",
      "1961-08-13   2.88  10.058333  14.21  4.422268   4.42   7.941429  10.00   \n",
      "1961-08-20  13.13  15.607143  18.91  2.283635   7.25  10.565714  13.62   \n",
      "1961-08-27   7.67  12.391429  18.16  3.395857   6.87  11.430000  14.58   \n",
      "1961-09-03   3.63   8.678571  14.46  4.398615   1.13   8.821429  22.00   \n",
      "1961-09-10   5.00  10.541429  17.62  5.207278   3.04   8.798571  13.59   \n",
      "1961-09-17   5.33  17.160000  28.75  7.679190   7.12  14.440000  22.08   \n",
      "1961-09-24   6.92   8.500000  10.25  1.267399   2.92   7.154286  13.62   \n",
      "1961-10-01  10.34  16.044286  23.21  4.559572   6.96  11.361667  13.62   \n",
      "1961-10-08   3.13  11.250000  16.08  5.596710   3.63   8.757143  16.96   \n",
      "1961-10-15   3.71  10.881667  17.12  4.780675   6.13   9.734286  13.25   \n",
      "1961-10-22  10.46  19.260000  28.62  7.888314   3.75  13.364286  19.46   \n",
      "1961-10-29   4.33  16.077143  26.42  7.957637   2.75  11.867143  21.25   \n",
      "1961-11-05   5.88  11.571429  15.79  3.369201   3.96   9.590000  13.46   \n",
      "1961-11-12   5.46  10.428571  16.08  3.939811   5.50   7.690000  10.75   \n",
      "1961-11-19   7.50  10.798571  15.00  2.784358   4.21   7.951429  13.00   \n",
      "1961-11-26   5.75   9.154286  14.29  3.214368   3.29   7.337143  11.79   \n",
      "1961-12-03   7.92  12.608571  23.75  5.704669   4.67  10.442857  18.71   \n",
      "1961-12-10  10.83  17.362857  23.71  4.890152   9.21  14.362857  21.37   \n",
      "1961-12-17   9.29  14.985714  21.34  4.095106   8.63  13.472857  17.62   \n",
      "1961-12-24  11.46  15.757143  24.41  4.959717   9.79  11.971429  16.13   \n",
      "\n",
      "                        ROS             ...    CLO              BEL  \\\n",
      "                 std    min       mean  ...    max       std    min   \n",
      "date                                    ...                           \n",
      "1961-01-01       NaN  13.17  13.170000  ...  12.58       NaN  18.50   \n",
      "1961-01-08  3.949525   7.62  10.487143  ...  10.46  1.704941   5.46   \n",
      "1961-01-15  3.148945   7.08  11.958571  ...  14.58  4.084293   5.25   \n",
      "1961-01-22  3.837785   7.29  12.982857  ...  16.71  4.783952   6.50   \n",
      "1961-01-29  5.170224  12.67  18.225714  ...  19.95  3.713368  14.04   \n",
      "1961-02-05  5.187395   9.04  12.618571  ...  13.13  2.839501   9.17   \n",
      "1961-02-12  3.608373  13.67  17.304286  ...  17.79  1.746749  15.21   \n",
      "1961-02-19  3.575012   6.13  13.797143  ...  16.58  2.531361  14.09   \n",
      "1961-02-26  5.147348   6.08  14.334286  ...  20.04  4.920064   9.59   \n",
      "1961-03-05  2.851955   8.17  11.063333  ...  14.09  1.593685  11.58   \n",
      "1961-03-12  3.230167   7.54  10.845714  ...  15.79  3.655113  10.21   \n",
      "1961-03-19  2.352867   5.25  11.607143  ...  15.34  3.099472  11.29   \n",
      "1961-03-26  3.657265   4.79   9.695714  ...  14.50  2.538224   8.25   \n",
      "1961-04-02  4.687315   5.09   9.501429  ...  14.21  3.191115   7.21   \n",
      "1961-04-09  2.845399   9.29  13.607143  ...  10.50  2.336182   7.62   \n",
      "1961-04-16  2.607118   3.92   8.787143  ...   9.67  2.161137   5.75   \n",
      "1961-04-23  4.631736   3.33  10.255714  ...  14.37  3.347972   6.75   \n",
      "1961-04-30  2.871425   2.54   8.281429  ...  11.46  2.840568   5.13   \n",
      "1961-05-07  3.750835   8.42  13.834286  ...  17.54  3.620819   4.79   \n",
      "1961-05-14  3.782947   4.63   8.172857  ...  17.92  5.460237   6.54   \n",
      "1961-05-21  2.468906   5.91  12.042857  ...   9.29  2.216889   6.63   \n",
      "1961-05-28  3.378537   3.58   8.512857  ...  11.46  2.575661   6.13   \n",
      "1961-06-04  1.868125   6.83  10.065714  ...  12.04  2.096989   8.71   \n",
      "1961-06-11  1.524836   6.04   8.095714  ...  10.92  2.158323   5.37   \n",
      "1961-06-18  3.509444   6.50  10.875714  ...  14.71  3.792400   7.29   \n",
      "1961-06-25  2.212460   5.13   8.084286  ...  15.00  2.286218  11.00   \n",
      "1961-07-02  2.902411   7.62   8.648571  ...  12.38  1.564144   6.96   \n",
      "1961-07-09  2.686658   7.41   9.320000  ...  16.79  3.657179   7.08   \n",
      "1961-07-16  3.849630   8.00  11.171429  ...  14.92  3.271899   5.04   \n",
      "1961-07-23  1.400010   4.08   6.738571  ...   7.75  1.439785   4.21   \n",
      "1961-07-30  3.203206   6.42   9.352857  ...  15.75  4.350268   7.87   \n",
      "1961-08-06  3.985226   5.54   9.858571  ...  12.83  2.903018   6.17   \n",
      "1961-08-13  2.053326   6.00   8.728571  ...   9.92  2.073777   5.88   \n",
      "1961-08-20  2.523416   9.17  11.065714  ...  17.83  2.730237   9.59   \n",
      "1961-08-27  3.174702   9.50  12.768571  ...  15.96  3.855302   5.75   \n",
      "1961-09-03  7.474025   2.42   6.745714  ...  16.13  3.993736   4.79   \n",
      "1961-09-10  4.003996   3.63   8.185714  ...  11.71  3.649278   5.41   \n",
      "1961-09-17  5.360585   7.29  15.617143  ...  25.21  5.128338  13.92   \n",
      "1961-09-24  3.445262   5.33   7.993333  ...  10.71  2.354092   4.54   \n",
      "1961-10-01  2.812482   7.87  13.062857  ...  17.46  3.908397   7.79   \n",
      "1961-10-08  5.060803   4.96  10.167143  ...  12.21  4.296870   4.79   \n",
      "1961-10-15  2.707483   4.21   9.104286  ...  15.21  3.569308   8.54   \n",
      "1961-10-22  5.998199   9.92  15.828571  ...  26.38  5.890511  10.88   \n",
      "1961-10-29  6.879973   4.79  14.608571  ...  22.13  6.277629   8.50   \n",
      "1961-11-05  3.900278   6.54  10.827143  ...  15.79  2.784450  10.29   \n",
      "1961-11-12  2.141191   3.83  10.272857  ...  10.88  2.843518   6.13   \n",
      "1961-11-19  3.208548   6.46  16.988571  ...  14.04  4.402588   0.71   \n",
      "1961-11-26  3.277904   4.42   8.662857  ...  14.12  2.747452   6.50   \n",
      "1961-12-03  5.107089   8.00  11.481429  ...  13.00  3.680477   5.50   \n",
      "1961-12-10  4.115506   9.71  15.460000  ...  15.50  4.156207  10.71   \n",
      "1961-12-17  3.587886   9.04  13.720000  ...  17.41  4.633398   5.50   \n",
      "1961-12-24  2.220866   8.08  12.840000  ...  15.34  4.637096   5.29   \n",
      "\n",
      "                                          MAL                              \n",
      "                 mean    max       std    min       mean    max       std  \n",
      "date                                                                       \n",
      "1961-01-01  18.500000  18.50       NaN  15.04  15.040000  15.04       NaN  \n",
      "1961-01-08  12.481429  17.54  4.349139  10.88  13.238571  16.46  1.773062  \n",
      "1961-01-15  11.125714  20.71  5.552215   5.17  11.024286  16.92  4.692355  \n",
      "1961-01-22   9.821429  15.92  3.626584   6.79  11.434286  17.96  4.237239  \n",
      "1961-01-29  20.930000  27.71  5.210726  17.50  22.530000  27.63  3.874721  \n",
      "1961-02-05  14.012857  19.33  4.210858   7.17  11.935714  19.25  4.336104  \n",
      "1961-02-12  21.832857  26.38  4.063753  17.04  19.155714  21.84  1.828705  \n",
      "1961-02-19  21.167143  29.63  5.910938  10.96  16.584286  22.58  4.685377  \n",
      "1961-02-26  16.304286  23.21  5.091162   6.67  14.322857  23.87  6.182283  \n",
      "1961-03-05  17.842857  23.45  4.332331   8.83  13.951667  17.54  3.021387  \n",
      "1961-03-12  16.701429  22.71  4.358759   5.54  14.420000  22.54  5.769890  \n",
      "1961-03-19  19.350000  22.79  3.779727  11.34  16.227143  22.95  4.331958  \n",
      "1961-03-26  14.037143  21.34  4.318069  13.13  18.134286  22.50  3.701846  \n",
      "1961-04-02  13.471429  18.63  4.179854   7.17  13.900000  19.58  3.924555  \n",
      "1961-04-09  11.712857  17.16  3.147781   7.21  11.371429  15.34  2.598271  \n",
      "1961-04-16   9.482857  16.17  3.641464   5.66   8.690000  12.87  2.747842  \n",
      "1961-04-23  13.620000  19.21  4.735096   4.96  12.470000  20.46  5.908542  \n",
      "1961-04-30   9.720000  13.04  2.948237   2.67   8.637143  17.50  5.108365  \n",
      "1961-05-07  17.548571  28.08  8.003490   3.83  14.571429  26.58  7.728504  \n",
      "1961-05-14  10.421429  18.66  3.968272   3.33  10.382857  26.30  7.858246  \n",
      "1961-05-21   9.624286  12.00  1.975853   5.91  10.612857  14.96  3.310819  \n",
      "1961-05-28  10.518571  14.33  3.024524   8.00  11.697143  17.04  3.811818  \n",
      "1961-06-04  12.298571  17.00  2.611139  10.63  13.597143  17.96  2.593586  \n",
      "1961-06-11  10.148571  16.17  3.993062   5.96  12.250000  19.83  4.925055  \n",
      "1961-06-18  15.351429  25.25  6.477887   6.13  15.025714  24.71  6.242673  \n",
      "1961-06-25  14.370000  19.08  2.498386  13.75  17.410000  21.50  3.063011  \n",
      "1961-07-02  14.535714  21.87  6.303747   8.50  12.133333  16.79  3.652313  \n",
      "1961-07-09  12.220000  20.41  4.537988  12.08  15.987143  21.29  3.665705  \n",
      "1961-07-16  13.520000  20.25  4.971060   5.96  12.524286  21.96  4.974273  \n",
      "1961-07-23   7.524286  10.13  2.050218   5.41   8.415714  10.92  2.133994  \n",
      "1961-07-30  12.841429  22.17  5.580903   6.13  13.761429  25.37  6.664574  \n",
      "1961-08-06  11.595714  18.54  4.901377   9.08  13.760000  20.25  4.448251  \n",
      "1961-08-13  10.934286  14.29  2.931302   5.88  10.125714  15.16  3.356585  \n",
      "1961-08-20  14.922857  21.92  4.086725  13.04  16.626667  24.30  3.934238  \n",
      "1961-08-27  16.251429  23.38  6.711322   8.29  16.485714  22.29  4.947608  \n",
      "1961-09-03  13.664286  24.71  7.678051   5.41  11.022857  22.54  6.308087  \n",
      "1961-09-10  10.700000  15.83  4.220584   3.37  11.034286  20.25  6.049619  \n",
      "1961-09-17  19.878571  23.91  4.464252  14.67  18.984286  33.09  6.332885  \n",
      "1961-09-24  11.018571  20.96  5.235868   5.25   9.814286  14.62  3.113507  \n",
      "1961-10-01  16.208571  21.37  5.091268   4.04  13.338571  17.16  4.696504  \n",
      "1961-10-08   8.810000  17.83  4.800403   4.83  11.410000  19.62  5.462002  \n",
      "1961-10-15  14.451429  20.46  4.113200  10.75  15.260000  21.04  4.098130  \n",
      "1961-10-22  17.477143  24.71  5.645871  13.46  23.641429  33.45  7.468377  \n",
      "1961-10-29  15.592857  27.29  7.056150   9.83  18.404286  30.88  8.340881  \n",
      "1961-11-05  16.322857  20.17  4.038493  13.37  19.195714  23.58  3.870800  \n",
      "1961-11-12   9.208571  12.58  2.532196   5.71  10.858571  15.54  3.690752  \n",
      "1961-11-19   5.875714   9.59  3.643285   2.00   5.737143  13.25  3.787654  \n",
      "1961-11-26  11.772857  20.46  5.407223   4.25  12.732857  22.58  6.475867  \n",
      "1961-12-03  11.464286  19.04  5.552648   5.88  14.725714  21.29  5.233192  \n",
      "1961-12-10  15.975714  21.79  4.667933   7.58  16.241429  29.33  7.345893  \n",
      "1961-12-17  15.112857  22.83  6.531043   6.50  14.644286  21.12  5.665006  \n",
      "1961-12-24   9.958571  17.67  5.065308   2.62   8.164286  16.62  5.048035  \n",
      "\n",
      "[52 rows x 48 columns]\n"
     ]
    }
   ],
   "source": [
    "# Printing weekly statistics (min, mean, max, std) for the first 52 weeks for each location\n",
    "print(\"Weekly Statistics for the First 52 Weeks (min, mean, max, std):\")\n",
    "print(weekly_stats_first_52_weeks)"
   ]
  },
  {
   "cell_type": "markdown",
   "id": "5a2a0e4e",
   "metadata": {},
   "source": [
    "Question 5\n",
    "Step 1. Import the necessary libraries\n",
    "Step 2. Import the dataset from this address.\n",
    "Step 3. Assign it to a variable called chipo.\n",
    "Step 4. See the first 10 entries\n",
    "Step 5. What is the number of observations in the dataset?\n",
    "Step 6. What is the number of columns in the dataset?\n",
    "Step 7. Print the name of all the columns.\n",
    "Step 8. How is the dataset indexed?\n",
    "Step 9. Which was the most-ordered item?\n",
    "Step 10. For the most-ordered item, how many items were ordered?\n",
    "Step 11. What was the most ordered item in the choice_description column?\n",
    "Step 12. How many items were orderd in total?\n",
    "Step 13.\n",
    "• Turn the item price into a float\n",
    "• Check the item price type\n",
    "• Create a lambda function and change the type of item price\n",
    "• Check the item price type\n",
    "Step 14. How much was the revenue for the period in the dataset?\n",
    "Step 15. How many orders were made in the period?\n",
    "Step 16. What is the average revenue amount per order?\n",
    "Step 17. How many different items are sold?"
   ]
  },
  {
   "cell_type": "code",
   "execution_count": 107,
   "id": "c57f5667",
   "metadata": {},
   "outputs": [
    {
     "name": "stdout",
     "output_type": "stream",
     "text": [
      "First 10 entries in the dataset:\n",
      "   order_id  quantity                              item_name  \\\n",
      "0         1         1           Chips and Fresh Tomato Salsa   \n",
      "1         1         1                                   Izze   \n",
      "2         1         1                       Nantucket Nectar   \n",
      "3         1         1  Chips and Tomatillo-Green Chili Salsa   \n",
      "4         2         2                           Chicken Bowl   \n",
      "5         3         1                           Chicken Bowl   \n",
      "6         3         1                          Side of Chips   \n",
      "7         4         1                          Steak Burrito   \n",
      "8         4         1                       Steak Soft Tacos   \n",
      "9         5         1                          Steak Burrito   \n",
      "\n",
      "                                  choice_description item_price  \n",
      "0                                                NaN     $2.39   \n",
      "1                                       [Clementine]     $3.39   \n",
      "2                                            [Apple]     $3.39   \n",
      "3                                                NaN     $2.39   \n",
      "4  [Tomatillo-Red Chili Salsa (Hot), [Black Beans...    $16.98   \n",
      "5  [Fresh Tomato Salsa (Mild), [Rice, Cheese, Sou...    $10.98   \n",
      "6                                                NaN     $1.69   \n",
      "7  [Tomatillo Red Chili Salsa, [Fajita Vegetables...    $11.75   \n",
      "8  [Tomatillo Green Chili Salsa, [Pinto Beans, Ch...     $9.25   \n",
      "9  [Fresh Tomato Salsa, [Rice, Black Beans, Pinto...     $9.25   \n"
     ]
    }
   ],
   "source": [
    "# Specifying the URL for the Chipotle dataset in TSV format\n",
    "url = \"https://raw.githubusercontent.com/justmarkham/DAT8/master/data/chipotle.tsv\"\n",
    "\n",
    "# Reading the Chipotle dataset from the specified URL, using tab ('\\t') as the separator\n",
    "chipo = pd.read_csv(url, sep='\\t')\n",
    "\n",
    "# Printing the first 10 entries in the Chipotle dataset\n",
    "print(\"First 10 entries in the dataset:\")\n",
    "print(chipo.head(10))"
   ]
  },
  {
   "cell_type": "code",
   "execution_count": 108,
   "id": "16cdd732",
   "metadata": {},
   "outputs": [],
   "source": [
    "# Calculating the number of observations (rows) in the Chipotle dataset\n",
    "observations = len(chipo)\n",
    "\n",
    "# Calculating the number of columns in the Chipotle dataset\n",
    "num_columns = chipo.shape[1]\n",
    "\n",
    "# Getting the names of all columns in the Chipotle dataset\n",
    "columns_names = chipo.columns.tolist()\n",
    "\n",
    "# Getting information about the index of the Chipotle dataset\n",
    "index_info = chipo.index\n",
    "\n",
    "# Finding the most ordered item by grouping and summing the quantity column\n",
    "most_ordered_item = chipo.groupby('item_name').quantity.sum().idxmax()\n",
    "\n",
    "# Finding the quantity of the most ordered item\n",
    "most_ordered_quantity = chipo.groupby('item_name').quantity.sum().max()\n",
    "\n",
    "# Finding the most ordered choice_description\n",
    "most_ordered_choice = chipo.groupby('choice_description').quantity.sum().idxmax()\n",
    "\n",
    "# Calculating the total number of items ordered\n",
    "total_items_ordered = chipo.quantity.sum()\n",
    "\n",
    "# Removing the dollar sign from the item_price and converting it to a float\n",
    "chipo['item_price'] = chipo['item_price'].apply(lambda x: float(x[1:-1]))\n",
    "\n",
    "# Checking the data type of item_price before conversion\n",
    "item_price_type_before = chipo['item_price'].dtype\n",
    "\n",
    "# Converting item_price to float\n",
    "chipo['item_price'] = chipo['item_price'].apply(lambda x: float(x))\n",
    "\n",
    "# Checking the data type of item_price after conversion\n",
    "item_price_type_after = chipo['item_price'].dtype\n",
    "\n",
    "# Calculating the total revenue by multiplying quantity and item_price and summing\n",
    "revenue = (chipo['quantity'] * chipo['item_price']).sum()\n",
    "\n",
    "# Calculating the total number of unique orders\n",
    "num_orders = chipo['order_id'].nunique()\n",
    "\n",
    "# Calculating the average revenue per order\n",
    "average_revenue_per_order = revenue / num_orders\n",
    "\n",
    "# Calculating the total number of different items ordered\n",
    "num_different_items = chipo['item_name'].nunique()"
   ]
  },
  {
   "cell_type": "markdown",
   "id": "cf40f1aa",
   "metadata": {},
   "source": [
    "*Results*"
   ]
  },
  {
   "cell_type": "code",
   "execution_count": 109,
   "id": "877530db",
   "metadata": {},
   "outputs": [
    {
     "name": "stdout",
     "output_type": "stream",
     "text": [
      "Number of observations in the dataset: 4622\n",
      "\n",
      "Number of columns in the dataset: 5\n",
      "\n",
      "Name of all columns: ['order_id', 'quantity', 'item_name', 'choice_description', 'item_price']\n",
      "\n",
      "Dataset is indexed as: RangeIndex(start=0, stop=4622, step=1)\n",
      "\n",
      "Most-ordered item: Chicken Bowl (Quantity: 761)\n",
      "\n",
      "Most-ordered item in choice_description: [Diet Coke]\n",
      "\n",
      "Total items ordered: 4972\n",
      "\n",
      "Item price type before conversion: float64\n",
      "\n",
      "Item price type after conversion: float64\n",
      "\n",
      "Revenue for the period: $39237.02\n",
      "\n",
      "Number of orders made: 1834\n",
      "\n",
      "Average revenue per order: $21.39\n",
      "\n",
      "Number of different items sold: 50\n"
     ]
    }
   ],
   "source": [
    "# Printing the number of observations in the Chipotle dataset\n",
    "print(f\"Number of observations in the dataset: {observations}\")\n",
    "\n",
    "# Printing the number of columns in the Chipotle dataset\n",
    "print(f\"\\nNumber of columns in the dataset: {num_columns}\")\n",
    "\n",
    "# Printing the names of all columns in the Chipotle dataset\n",
    "print(f\"\\nName of all columns: {columns_names}\")\n",
    "\n",
    "# Printing information about the index of the Chipotle dataset\n",
    "print(f\"\\nDataset is indexed as: {index_info}\")\n",
    "\n",
    "# Printing the most-ordered item along with its quantity\n",
    "print(f\"\\nMost-ordered item: {most_ordered_item} (Quantity: {most_ordered_quantity})\")\n",
    "\n",
    "# Printing the most-ordered item in choice_description\n",
    "print(f\"\\nMost-ordered item in choice_description: {most_ordered_choice}\")\n",
    "\n",
    "# Printing the total number of items ordered\n",
    "print(f\"\\nTotal items ordered: {total_items_ordered}\")\n",
    "\n",
    "# Printing the data type of item_price before the conversion\n",
    "print(f\"\\nItem price type before conversion: {item_price_type_before}\")\n",
    "\n",
    "# Printing the data type of item_price after the conversion\n",
    "print(f\"\\nItem price type after conversion: {item_price_type_after}\")\n",
    "\n",
    "# Printing the total revenue for the period\n",
    "print(f\"\\nRevenue for the period: ${revenue:.2f}\")\n",
    "\n",
    "# Printing the total number of unique orders\n",
    "print(f\"\\nNumber of orders made: {num_orders}\")\n",
    "\n",
    "# Printing the average revenue per order\n",
    "print(f\"\\nAverage revenue per order: ${average_revenue_per_order:.2f}\")\n",
    "\n",
    "# Printing the total number of different items sold\n",
    "print(f\"\\nNumber of different items sold: {num_different_items}\")"
   ]
  },
  {
   "cell_type": "markdown",
   "id": "9035de77",
   "metadata": {},
   "source": [
    "Question 6\n",
    "Create a line plot showing the number of marriages and divorces per capita in the U.S. between 1867 and 2014. Label both lines and show the legend.\n",
    "Don't forget to label your axes!"
   ]
  },
  {
   "cell_type": "code",
   "execution_count": 110,
   "id": "b3937afc",
   "metadata": {},
   "outputs": [
    {
     "data": {
      "image/png": "[encoded data removed]",
      "text/plain": [
       "<Figure size 1200x600 with 1 Axes>"
      ]
     },
     "metadata": {},
     "output_type": "display_data"
    }
   ],
   "source": [
    "# Specifying the file path for the dataset on U.S. marriages and divorces\n",
    "file_path = \"C:/Users/keval/Desktop/Georgain/Data Programming/Assignments/us-marriages-divorces-1867-2014.csv\"\n",
    "\n",
    "# Reading the dataset into a pandas DataFrame\n",
    "data = pd.read_csv(file_path)\n",
    "\n",
    "# Creating a figure with a specified size\n",
    "plt.figure(figsize=(12, 6))\n",
    "\n",
    "# Plotting the number of marriages and divorces per capita over the years\n",
    "plt.plot(data['Year'], data['Marriages'], label='Marriages', marker='o', color='green')\n",
    "plt.plot(data['Year'], data['Divorces'], label='Divorces', marker='o', color='red')\n",
    "\n",
    "# Adding labels to the x and y axes\n",
    "plt.xlabel('Year')\n",
    "plt.ylabel('Number per Capita')\n",
    "\n",
    "# Adding a title to the plot\n",
    "plt.title('Number of Marriages and Divorces per Capita in the U.S. (1867-2014)')\n",
    "\n",
    "# Adding a legend to the plot\n",
    "plt.legend()\n",
    "\n",
    "# Displaying a grid on the plot\n",
    "plt.grid(True)\n",
    "\n",
    "# Displaying the plot\n",
    "plt.show()"
   ]
  },
  {
   "cell_type": "markdown",
   "id": "bb1125f3",
   "metadata": {},
   "source": [
    "Question 7\n",
    "Create a vertical bar chart comparing the number of marriages and divorces per capita in the U.S. between 1900, 1950, and 2000.\n",
    "Don't forget to label your axes!"
   ]
  },
  {
   "cell_type": "code",
   "execution_count": 111,
   "id": "2c083afd",
   "metadata": {},
   "outputs": [
    {
     "data": {
      "image/png": "[encoded data removed]",
      "text/plain": [
       "<Figure size 1000x600 with 1 Axes>"
      ]
     },
     "metadata": {},
     "output_type": "display_data"
    }
   ],
   "source": [
    "# Selecting data for specific years (1900, 1950, 2000)\n",
    "selected_years = data[data['Year'].isin([1900, 1950, 2000])]\n",
    "\n",
    "# Creating a figure with a specified size\n",
    "plt.figure(figsize=(10, 6))\n",
    "\n",
    "# Setting the width of the bars\n",
    "bar_width = 19\n",
    "\n",
    "# Calculating the positions for marriages and divorces bars\n",
    "bar_positions_marriages = selected_years['Year'] - bar_width / 2\n",
    "bar_positions_divorces = selected_years['Year'] + bar_width / 2\n",
    "\n",
    "# Plotting grouped bar charts for marriages and divorces\n",
    "plt.bar(bar_positions_marriages, selected_years['Marriages'], bar_width, label='Marriages', color='green')\n",
    "plt.bar(bar_positions_divorces, selected_years['Divorces'], bar_width, label='Divorces', color='red')\n",
    "\n",
    "# Adding labels to the x and y axes\n",
    "plt.xlabel('Year')\n",
    "plt.ylabel('Number per Capita')\n",
    "\n",
    "# Adding a title to the plot\n",
    "plt.title('Number of Marriages and Divorces per Capita in the U.S. (1900, 1950, 2000)')\n",
    "\n",
    "# Adding a legend to the plot\n",
    "plt.legend()\n",
    "\n",
    "# Setting x-axis ticks and labels\n",
    "plt.xticks(selected_years['Year'], selected_years['Year'])\n",
    "\n",
    "# Displaying a grid on the y-axis\n",
    "plt.grid(axis='y')\n",
    "\n",
    "# Displaying the plot\n",
    "plt.show()"
   ]
  },
  {
   "cell_type": "markdown",
   "id": "07eda1dc",
   "metadata": {},
   "source": [
    "Question 8 \n",
    "Create a horizontal bar chart that compares the deadliest actors in Hollywood. Sort the actors by their kill count and label each bar with the corresponding actor's name. Don't forget to label your axes!"
   ]
  },
  {
   "cell_type": "code",
   "execution_count": 112,
   "id": "953c4735",
   "metadata": {},
   "outputs": [
    {
     "data": {
      "image/png": "[encoded data removed]",
      "text/plain": [
       "<Figure size 1000x800 with 1 Axes>"
      ]
     },
     "metadata": {},
     "output_type": "display_data"
    }
   ],
   "source": [
    "# Specifying the file path for the dataset on actor kill counts\n",
    "file_path = \"C:/Users/keval/Desktop/Georgain/Data Programming/Assignments/actor_kill_counts.csv\"\n",
    "\n",
    "# Reading the dataset into a pandas DataFrame\n",
    "data = pd.read_csv(file_path)\n",
    "\n",
    "# Sorting the data by kill count in ascending order\n",
    "sorted_data = data.sort_values(by='Count', ascending=True)\n",
    "\n",
    "# Creating a figure with a specified size\n",
    "plt.figure(figsize=(10, 8))\n",
    "\n",
    "# Creating a horizontal bar plot of actor kill counts\n",
    "plt.barh(sorted_data['Actor'], sorted_data['Count'], color='purple')\n",
    "\n",
    "# Adding labels to the x and y axes\n",
    "plt.xlabel('Kill Count')\n",
    "plt.ylabel('Actor')\n",
    "\n",
    "# Adding a title to the plot\n",
    "plt.title('Deadliest Actors in Hollywood')\n",
    "\n",
    "# Displaying the kill count values next to the bars\n",
    "for index, value in enumerate(sorted_data['Count']):\n",
    "    plt.text(value, index, str(value))\n",
    "\n",
    "# Displaying a grid on the x-axis\n",
    "plt.grid(axis='x')\n",
    "\n",
    "# Displaying the plot\n",
    "plt.show()"
   ]
  },
  {
   "cell_type": "markdown",
   "id": "b620dc85",
   "metadata": {},
   "source": [
    "Question 9\n",
    "Create a pie chart showing the fraction of all Roman Emperors that were assassinated.\n",
    "Make sure that the pie chart is an even circle, labels the categories, and shows the percentage breakdown of the categories."
   ]
  },
  {
   "cell_type": "code",
   "execution_count": 113,
   "id": "b841c611",
   "metadata": {},
   "outputs": [
    {
     "data": {
      "image/png": "[encoded data removed]",
      "text/plain": [
       "<Figure size 800x800 with 1 Axes>"
      ]
     },
     "metadata": {},
     "output_type": "display_data"
    }
   ],
   "source": [
    "# Specifying the file path for the dataset on Roman emperor reigns\n",
    "file_path = \"C:/Users/keval/Desktop/Georgain/Data Programming/Assignments/roman-emperor-reigns.csv\"\n",
    "\n",
    "# Reading the dataset into a pandas DataFrame\n",
    "data = pd.read_csv(file_path)\n",
    "\n",
    "# Filtering emperors who were assassinated\n",
    "assassinated_emperors = data[data['Cause_of_Death'] == 'Assassinated']\n",
    "\n",
    "# Calculating the total number of emperors\n",
    "total_emperors = len(data)\n",
    "\n",
    "# Calculating the percentage of emperors who were assassinated\n",
    "percentage_assassinated = (len(assassinated_emperors) / total_emperors) * 100\n",
    "\n",
    "# Creating a figure with a specified size\n",
    "plt.figure(figsize=(8, 8))\n",
    "\n",
    "# Defining colors for the pie chart\n",
    "colors = ['#99ff99', '#ffcc99']\n",
    "\n",
    "# Creating a pie chart with labels, percentages, starting angle, and colors\n",
    "plt.pie([percentage_assassinated, 100 - percentage_assassinated],\n",
    "        labels=['Assassinated', 'Not Assassinated'],\n",
    "        autopct='%1.1f%%',\n",
    "        startangle=90,\n",
    "        colors=colors)\n",
    "\n",
    "# Adding a title to the pie chart\n",
    "plt.title('Fraction of Roman Emperors Assassinated')\n",
    "\n",
    "# Ensuring the pie chart is circular\n",
    "plt.axis('equal') \n",
    "\n",
    "# Displaying the pie chart\n",
    "plt.show()"
   ]
  },
  {
   "cell_type": "markdown",
   "id": "ce82136e",
   "metadata": {},
   "source": [
    "Question 10\n",
    "Create a scatter plot showing the relationship between the total revenue earned by arcades and the number of Computer Science PhDs awarded in the U.S. between 2000 and 2009.\n",
    "Don't forget to label your axes!\n",
    "Color each dot according to its year."
   ]
  },
  {
   "cell_type": "code",
   "execution_count": 114,
   "id": "319f3f7c",
   "metadata": {},
   "outputs": [
    {
     "data": {
      "image/png": "[encoded data removed]",
      "text/plain": [
       "<Figure size 1000x600 with 2 Axes>"
      ]
     },
     "metadata": {},
     "output_type": "display_data"
    }
   ],
   "source": [
    "# Specifying the file path for the dataset on arcade revenue vs computer science doctorates\n",
    "file_path = \"C:/Users/keval/Desktop/Georgain/Data Programming/Assignments/arcade-revenue-vs-cs-doctorates.csv\"\n",
    "\n",
    "# Reading the dataset into a pandas DataFrame\n",
    "data = pd.read_csv(file_path)\n",
    "\n",
    "# Creating a figure with a specified size\n",
    "plt.figure(figsize=(10, 6))\n",
    "\n",
    "# Creating a scatter plot with color-coded points based on the year\n",
    "scatter = plt.scatter(data['Total Arcade Revenue (billions)'], data['Computer Science Doctorates Awarded (US)'], c=data['Year'], cmap='plasma')\n",
    "\n",
    "# Adding labels to the x and y axes\n",
    "plt.xlabel('Total Arcade Revenue (billions)')\n",
    "plt.ylabel('Computer Science Doctorates Awarded (US)')\n",
    "\n",
    "# Adding a title to the plot\n",
    "plt.title('Arcade Revenue vs Computer Science Doctorates (2000-2009)')\n",
    "\n",
    "# Creating a colorbar to represent the year\n",
    "cbar = plt.colorbar(scatter)\n",
    "cbar.set_label('Year')\n",
    "\n",
    "# Displaying the scatter plot\n",
    "plt.show()"
   ]
  }
 ],
 "metadata": {
  "kernelspec": {
   "display_name": "Python 3 (ipykernel)",
   "language": "python",
   "name": "python3"
  },
  "language_info": {
   "codemirror_mode": {
    "name": "ipython",
    "version": 3
   },
   "file_extension": ".py",
   "mimetype": "text/x-python",
   "name": "python",
   "nbconvert_exporter": "python",
   "pygments_lexer": "ipython3",
   "version": "3.9.13"
  }
 },
 "nbformat": 4,
 "nbformat_minor": 5
}
